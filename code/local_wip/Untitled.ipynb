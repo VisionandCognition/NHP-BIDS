{
 "cells": [
  {
   "cell_type": "code",
   "execution_count": 5,
   "metadata": {},
   "outputs": [],
   "source": [
    "import nipype.interfaces.utility as niu\n",
    "csv_file = '/home/chris/Desktop/test.csv'"
   ]
  },
  {
   "cell_type": "code",
   "execution_count": 6,
   "metadata": {},
   "outputs": [],
   "source": [
    "reader = niu.CSVReader()\n",
    "reader.inputs.header = True\n",
    "reader.inputs.in_file = csv_file\n",
    "out = reader.run()"
   ]
  },
  {
   "cell_type": "code",
   "execution_count": 8,
   "metadata": {},
   "outputs": [],
   "source": [
    "subject_list = out.outputs.subject\n",
    "session_list = out.outputs.session\n",
    "run_list = out.outputs.run\n",
    "evrun_list = out.outputs.evrun\n",
    "datatypes_list = out.outputs.datatypes"
   ]
  },
  {
   "cell_type": "code",
   "execution_count": 12,
   "metadata": {},
   "outputs": [
    {
     "name": "stdout",
     "output_type": "stream",
     "text": [
      "['func', 'anat', 'fmap']\n"
     ]
    }
   ],
   "source": [
    "print(datatypes_list[0].strip('[').strip(']').split(' '))"
   ]
  },
  {
   "cell_type": "code",
   "execution_count": 16,
   "metadata": {},
   "outputs": [],
   "source": [
    "sd = '/media/LISA_cortalg/NHP-BIDS/sub-danny/ses-20190806'"
   ]
  },
  {
   "cell_type": "code",
   "execution_count": 19,
   "metadata": {},
   "outputs": [
    {
     "name": "stdout",
     "output_type": "stream",
     "text": [
      "['func', 'fmap', 'anat']\n"
     ]
    }
   ],
   "source": [
    "import os\n",
    "subfolders = [f.name for f in os.scandir(sd) if f.is_dir() ]    \n",
    "print(subfolders)"
   ]
  },
  {
   "cell_type": "code",
   "execution_count": null,
   "metadata": {},
   "outputs": [],
   "source": []
  }
 ],
 "metadata": {
  "kernelspec": {
   "display_name": "Python 3",
   "language": "python",
   "name": "python3"
  },
  "language_info": {
   "codemirror_mode": {
    "name": "ipython",
    "version": 3
   },
   "file_extension": ".py",
   "mimetype": "text/x-python",
   "name": "python",
   "nbconvert_exporter": "python",
   "pygments_lexer": "ipython3",
   "version": "3.5.5"
  }
 },
 "nbformat": 4,
 "nbformat_minor": 2
}
