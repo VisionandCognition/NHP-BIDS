{
 "cells": [
  {
   "cell_type": "code",
   "execution_count": 56,
   "id": "81704790-3cba-48ec-b8e4-3a0b9dd3aef5",
   "metadata": {},
   "outputs": [],
   "source": [
    "iscan_file = '/NHP_MRI/NHP-BIDS/projects/NaturalMovie/sub-eddy/ses-20191114/func/sub-eddy_ses-20191114_task-naturalmovie_run-02_recording-eyetrace_physio.tda'"
   ]
  },
  {
   "cell_type": "code",
   "execution_count": 57,
   "id": "7e6960dd-95e8-4944-8ae3-09a78f4e5133",
   "metadata": {},
   "outputs": [
    {
     "name": "stdout",
     "output_type": "stream",
     "text": [
      "sub-eddy_ses-20191114_task-naturalmovie_run-02_recording-eyetrace_physio\n"
     ]
    }
   ],
   "source": [
    "iscan_parts = iscan_file.strip().split(\"/\")\n",
    "eyefile = iscan_parts[-1].rsplit('.',1)[0]\n",
    "print(eyefile)"
   ]
  },
  {
   "cell_type": "code",
   "execution_count": 75,
   "id": "a50aaa10-9dbc-43d1-8a80-0e4cd5c33b30",
   "metadata": {
    "scrolled": true
   },
   "outputs": [
    {
     "name": "stdout",
     "output_type": "stream",
     "text": [
      "Start getting data\n",
      "Header detected\n",
      "End of run detected\n",
      "Header detected\n",
      "End of run detected\n",
      "Header detected\n",
      "End of run detected\n"
     ]
    }
   ],
   "source": [
    "import pandas as pd\n",
    "\n",
    "GetRuns = False\n",
    "run = -1\n",
    "runs={}\n",
    "\n",
    "with open(iscan_file, \"r\", encoding=\"utf-8\") as file:\n",
    "    all_lines = file.readlines()\n",
    "\n",
    "nlines = len(all_lines)\n",
    "\n",
    "line_cnt = 0;\n",
    "with open(iscan_file, \"r\", encoding=\"utf-8\") as file:   \n",
    "    for line in file:\n",
    "        line_cnt = line_cnt+1\n",
    "        data = line.strip().split(\"\\t\")  # Split each line by tab\n",
    "        #print(columns)\n",
    "                \n",
    "        if data[0] == 'DATA INFO':\n",
    "            GetRuns = True\n",
    "            AddData = False\n",
    "            print('Start getting data')\n",
    "        \n",
    "        if GetRuns:\n",
    "            if len(data)>1:\n",
    "                if data[1] == 'Pupil H1 ':\n",
    "                    Hdr = data\n",
    "                    run = run+1 \n",
    "                    datacollect = [Hdr]\n",
    "                    AddData = True\n",
    "                    print('Header detected')\n",
    "\n",
    "                elif AddData & (data[0] != 'Sample #'):\n",
    "                    datacollect.append(data)\n",
    "                    # print('Adding data')\n",
    "                    \n",
    "            elif AddData:\n",
    "                AddData = False\n",
    "                print('End of run detected')\n",
    "                runs[run] = pd.DataFrame(datacollect[1:], columns=datacollect[0])\n",
    "\n",
    "            if line_cnt == nlines:\n",
    "                AddData = False\n",
    "                print('End of run detected')\n",
    "                runs[run] = pd.DataFrame(datacollect[1:], columns=datacollect[0])\n"
   ]
  },
  {
   "cell_type": "code",
   "execution_count": 76,
   "id": "90843f0e-2a0d-4ae9-a84c-0186f303107c",
   "metadata": {},
   "outputs": [
    {
     "name": "stdout",
     "output_type": "stream",
     "text": [
      "3\n"
     ]
    },
    {
     "data": {
      "text/html": [
       "<div>\n",
       "<style scoped>\n",
       "    .dataframe tbody tr th:only-of-type {\n",
       "        vertical-align: middle;\n",
       "    }\n",
       "\n",
       "    .dataframe tbody tr th {\n",
       "        vertical-align: top;\n",
       "    }\n",
       "\n",
       "    .dataframe thead th {\n",
       "        text-align: right;\n",
       "    }\n",
       "</style>\n",
       "<table border=\"1\" class=\"dataframe\">\n",
       "  <thead>\n",
       "    <tr style=\"text-align: right;\">\n",
       "      <th></th>\n",
       "      <th>Run   3:</th>\n",
       "      <th>Pupil H1</th>\n",
       "      <th>Pupil V1</th>\n",
       "      <th>Pupil D1</th>\n",
       "      <th>P-CR H1</th>\n",
       "      <th>P-CR V1</th>\n",
       "      <th>Dig Inp 1A</th>\n",
       "    </tr>\n",
       "  </thead>\n",
       "  <tbody>\n",
       "    <tr>\n",
       "      <th>0</th>\n",
       "      <td>146457</td>\n",
       "      <td>191.90</td>\n",
       "      <td>128.00</td>\n",
       "      <td>197.00</td>\n",
       "      <td>-12.00</td>\n",
       "      <td>-13.10</td>\n",
       "      <td>14.00</td>\n",
       "    </tr>\n",
       "    <tr>\n",
       "      <th>1</th>\n",
       "      <td>146458</td>\n",
       "      <td>192.10</td>\n",
       "      <td>128.00</td>\n",
       "      <td>197.00</td>\n",
       "      <td>-12.10</td>\n",
       "      <td>-13.10</td>\n",
       "      <td>14.00</td>\n",
       "    </tr>\n",
       "    <tr>\n",
       "      <th>2</th>\n",
       "      <td>146459</td>\n",
       "      <td>192.50</td>\n",
       "      <td>128.60</td>\n",
       "      <td>196.00</td>\n",
       "      <td>-12.00</td>\n",
       "      <td>-13.00</td>\n",
       "      <td>14.00</td>\n",
       "    </tr>\n",
       "    <tr>\n",
       "      <th>3</th>\n",
       "      <td>146460</td>\n",
       "      <td>194.90</td>\n",
       "      <td>131.60</td>\n",
       "      <td>196.00</td>\n",
       "      <td>-10.80</td>\n",
       "      <td>-11.30</td>\n",
       "      <td>14.00</td>\n",
       "    </tr>\n",
       "    <tr>\n",
       "      <th>4</th>\n",
       "      <td>146461</td>\n",
       "      <td>199.30</td>\n",
       "      <td>133.80</td>\n",
       "      <td>197.00</td>\n",
       "      <td>-9.10</td>\n",
       "      <td>-10.50</td>\n",
       "      <td>14.00</td>\n",
       "    </tr>\n",
       "  </tbody>\n",
       "</table>\n",
       "</div>"
      ],
      "text/plain": [
       "  Run   3: Pupil H1  Pupil V1  Pupil D1  P-CR H1   P-CR V1   Dig Inp 1A\n",
       "0   146457    191.90    128.00    197.00    -12.00    -13.10      14.00\n",
       "1   146458    192.10    128.00    197.00    -12.10    -13.10      14.00\n",
       "2   146459    192.50    128.60    196.00    -12.00    -13.00      14.00\n",
       "3   146460    194.90    131.60    196.00    -10.80    -11.30      14.00\n",
       "4   146461    199.30    133.80    197.00     -9.10    -10.50      14.00"
      ]
     },
     "execution_count": 76,
     "metadata": {},
     "output_type": "execute_result"
    }
   ],
   "source": [
    "print(len(runs))\n",
    "runs[2].head(5)"
   ]
  },
  {
   "cell_type": "code",
   "execution_count": 78,
   "id": "8b73cbe1-fec1-4456-8401-2d48eb393396",
   "metadata": {},
   "outputs": [],
   "source": [
    "# save as csv files\n",
    "for r in runs:\n",
    "    runs[r].to_csv(eyefile + '_eye-run-' + str(r+1) + '.csv', index=False)"
   ]
  },
  {
   "cell_type": "code",
   "execution_count": null,
   "id": "19bc1df2-9028-4e4b-86c4-a989783df20a",
   "metadata": {},
   "outputs": [],
   "source": []
  }
 ],
 "metadata": {
  "kernelspec": {
   "display_name": "Python 3 (ipykernel)",
   "language": "python",
   "name": "python3"
  },
  "language_info": {
   "codemirror_mode": {
    "name": "ipython",
    "version": 3
   },
   "file_extension": ".py",
   "mimetype": "text/x-python",
   "name": "python",
   "nbconvert_exporter": "python",
   "pygments_lexer": "ipython3",
   "version": "3.12.9"
  }
 },
 "nbformat": 4,
 "nbformat_minor": 5
}
